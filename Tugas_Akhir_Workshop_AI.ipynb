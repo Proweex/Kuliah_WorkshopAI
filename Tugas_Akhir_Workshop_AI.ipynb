{
  "nbformat": 4,
  "nbformat_minor": 0,
  "metadata": {
    "colab": {
      "name": "Tugas Akhir Workshop AI.ipynb",
      "provenance": [],
      "collapsed_sections": [],
      "authorship_tag": "ABX9TyPUQ1/VWYFjoIC1ZF1IbhOD"
    },
    "kernelspec": {
      "name": "python3",
      "display_name": "Python 3"
    },
    "language_info": {
      "name": "python"
    }
  },
  "cells": [
    {
      "cell_type": "markdown",
      "source": [
        "Dataset Source : https://www.kaggle.com/grassknoted/asl-alphabet\n",
        "\n",
        "Refrence : https://www.kaggle.com/ryuodan/asl-detection-walkthrough"
      ],
      "metadata": {
        "id": "Wyqk8wGxqtXL"
      }
    },
    {
      "cell_type": "markdown",
      "source": [
        "### Mengorganisir File dan Folder "
      ],
      "metadata": {
        "id": "13fa_MrBleOE"
      }
    },
    {
      "cell_type": "code",
      "source": [
        "!mkdir ~/.kaggle\n",
        "!cp /content/kaggle.json ~/.kaggle/\n",
        "!chmod 600 ~/.kaggle/kaggle.json\n",
        "!kaggle datasets download grassknoted/asl-alphabet"
      ],
      "metadata": {
        "id": "6iD3MBXullFq"
      },
      "execution_count": null,
      "outputs": []
    },
    {
      "cell_type": "code",
      "source": [
        "import zipfile, os\n",
        "local_zip = '/content/asl-alphabet.zip'\n",
        "\n",
        "# Buat dataset folder\n",
        "zip_target = '/content/'\n",
        "# !mkdir /content/zip_target/\n",
        "\n",
        "# Unzip dataset\n",
        "zip_ref = zipfile.ZipFile(local_zip, 'r')\n",
        "zip_ref.extractall(zip_target)\n",
        "zip_ref.close()"
      ],
      "metadata": {
        "id": "sLBjBO4KqqKP"
      },
      "execution_count": null,
      "outputs": []
    },
    {
      "cell_type": "code",
      "source": [
        "!mkdir /content/val"
      ],
      "metadata": {
        "id": "hKGzQpdirDuH"
      },
      "execution_count": null,
      "outputs": []
    },
    {
      "cell_type": "code",
      "source": [
        "import random, shutil\n",
        "\n",
        "# Membuat validation dan test folder dan data\n",
        "\n",
        "base = '/content/asl_alphabet_train/asl_alphabet_train'\n",
        "base_dest = '/content/val'\n",
        "base_subdirs = list()\n",
        "for y in os.listdir(base):\n",
        "  base_subdirs.append(y)\n",
        "\n",
        "unused_var, num = None, None\n",
        "for unused_var in base_subdirs:\n",
        "  if os.path.exists(os.path.join(base_dest, unused_var)):\n",
        "    continue\n",
        "  else:\n",
        "    os.makedirs(os.path.join(base_dest, unused_var))\n",
        "\n",
        "# memindahkan sample file dari subdir-subdir yang berada di base_dir\n",
        "for subdir in base_subdirs:\n",
        "  source = os.path.join(base, subdir)\n",
        "  fin_dest = os.path.join(base_dest, subdir)\n",
        "  files = os.listdir(source)\n",
        "  no_of_files = len(files) * 0.2\n",
        "\n",
        "  for file_name in random.sample(files, int(round(no_of_files))):\n",
        "      shutil.move(os.path.join(source, file_name), fin_dest)\n",
        "unused_var, num = None, None"
      ],
      "metadata": {
        "id": "v7WwqNqelroz"
      },
      "execution_count": null,
      "outputs": []
    },
    {
      "cell_type": "markdown",
      "source": [
        "### Train AI"
      ],
      "metadata": {
        "id": "6g9FsWKQc_dz"
      }
    },
    {
      "cell_type": "code",
      "source": [
        "# base_dir = '/content/dataset/images'\n",
        "train_dir = '/content/asl_alphabet_train/asl_alphabet_train'\n",
        "validation_dir = '/content/val'"
      ],
      "metadata": {
        "id": "Tb4BftG592YN"
      },
      "execution_count": null,
      "outputs": []
    },
    {
      "cell_type": "code",
      "source": [
        "from tensorflow.keras.preprocessing.image import ImageDataGenerator\n",
        "\n",
        "train_datagen = ImageDataGenerator(\n",
        "                    rescale         = 1./255,\n",
        "                    rotation_range  = 20,\n",
        "                    horizontal_flip = True,\n",
        "                    shear_range     = 0.2,\n",
        "                    fill_mode       = 'nearest'\n",
        "                )\n",
        "\n",
        "test_datagen  = ImageDataGenerator(\n",
        "                    rescale         = 1./255,\n",
        "                    rotation_range  = 20,\n",
        "                    horizontal_flip = True,\n",
        "                    shear_range     = 0.2,\n",
        "                    fill_mode       = 'nearest'\n",
        "                )"
      ],
      "metadata": {
        "id": "5ZlCKnfCJZx8"
      },
      "execution_count": null,
      "outputs": []
    },
    {
      "cell_type": "code",
      "source": [
        "train_generator = train_datagen.flow_from_directory(\n",
        "    train_dir,\n",
        "    target_size = (64,64),\n",
        "    batch_size  = 32,\n",
        "    class_mode  = 'categorical'\n",
        ")\n",
        "\n",
        "validation_generator = train_datagen.flow_from_directory(\n",
        "    validation_dir,\n",
        "    target_size = (64,64),\n",
        "    batch_size  = 32,\n",
        "    class_mode  = 'categorical'\n",
        ")"
      ],
      "metadata": {
        "id": "CaKS4CODLQri"
      },
      "execution_count": null,
      "outputs": []
    },
    {
      "cell_type": "code",
      "source": [
        "import tensorflow as tf\n",
        "\n",
        "model = tf.keras.models.Sequential([\n",
        "                                    tf.keras.layers.Conv2D(32, (5,5), activation='relu', input_shape=(64,64,3)),\n",
        "                                    tf.keras.layers.MaxPooling2D(2, 2),\n",
        "                                    tf.keras.layers.Conv2D(64, (3,3), activation='relu'),\n",
        "                                    tf.keras.layers.MaxPooling2D(2, 2),\n",
        "                                    tf.keras.layers.Conv2D(64, (3,3), activation='relu'),\n",
        "                                    tf.keras.layers.MaxPooling2D(2, 2),\n",
        "                                    # tf.keras.layers.Conv2D(128, (3,3), activation='relu'),\n",
        "                                    # tf.keras.layers.MaxPooling2D(2, 2),\n",
        "                                    tf.keras.layers.Flatten(),\n",
        "                                    tf.keras.layers.Dense(128, activation='relu'),\n",
        "                                    tf.keras.layers.Dense(29, activation='softmax')\n",
        "])"
      ],
      "metadata": {
        "id": "6YevEKymLYG4"
      },
      "execution_count": null,
      "outputs": []
    },
    {
      "cell_type": "code",
      "source": [
        "model.compile(loss='binary_crossentropy',\n",
        "              optimizer='Adam',\n",
        "              metrics=['accuracy'])"
      ],
      "metadata": {
        "id": "nhe0NKBxLgvX"
      },
      "execution_count": null,
      "outputs": []
    },
    {
      "cell_type": "code",
      "source": [
        "model.fit(\n",
        "  train_generator,\n",
        "  # steps_per_epoch   = 25,\n",
        "  epochs            = 7,\n",
        "  validation_data   = validation_generator\n",
        "  # validation_steps  = 5,\n",
        "  # verbose           = 2\n",
        ")"
      ],
      "metadata": {
        "id": "m33P_yJXLvdG"
      },
      "execution_count": null,
      "outputs": []
    },
    {
      "cell_type": "code",
      "source": [
        "model.save('ASL_Alphabet.h5')"
      ],
      "metadata": {
        "id": "orPLX2NlkiYH"
      },
      "execution_count": null,
      "outputs": []
    },
    {
      "cell_type": "code",
      "source": [
        "import numpy as np\n",
        "import matplotlib.pyplot as plt\n",
        "import matplotlib.image as mpimg\n",
        "from keras.preprocessing import image\n",
        "%matplotlib inline\n",
        "\n",
        "# prediction image\n",
        "# path = '/content/asl_alphabet_test/asl_alphabet_test/C_test.jpg'\n",
        "# path = '/content/asl_alphabet_test/asl_alphabet_test/A_test.jpg'\n",
        "# path = '/content/asl_alphabet_test/asl_alphabet_test/O_test.jpg'\n",
        "path = '/content/asl_alphabet_test/asl_alphabet_test/P_test.jpg'\n",
        "\n",
        "img = image.load_img(path, target_size = (64,64))\n",
        "imgplot = plt.imshow(img)\n",
        "x = image.img_to_array(img)\n",
        "x = np.expand_dims(x, axis=0)\n",
        "\n",
        "images = np.vstack([x])\n",
        "classes = model.predict(images, batch_size=20)\n",
        "print(path)\n",
        "list_of_letters = ['a', 'b', 'c', 'd', 'e', 'f', 'g', 'h', 'i', 'j', 'k', 'l', 'm', 'n', 'o', 'p', 'q', 'r', 's', 't', 'u', 'v', 'w', 'x', 'y', 'z', 'del', 'nothing', 'space']\n",
        "\n",
        "test__ = np.array(classes[0])\n",
        "print(\"Result : \" + str(list_of_letters[np.argmax(test__)]))"
      ],
      "metadata": {
        "id": "8fTiZOeKL0ne"
      },
      "execution_count": null,
      "outputs": []
    }
  ]
}